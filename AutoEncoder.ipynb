{
 "cells": [
  {
   "cell_type": "code",
   "execution_count": 2,
   "metadata": {},
   "outputs": [],
   "source": [
    "# Authors: Arman Kabiri, Ali Hakimi Pariz\n",
    "# Email: {Arman.Kabiri,Ahakimi}@unb.ca\n",
    "# University of New Brunswick"
   ]
  },
  {
   "cell_type": "code",
   "execution_count": 1,
   "metadata": {},
   "outputs": [],
   "source": [
    "import torch\n",
    "import torch.nn as nn\n",
    "from torch.utils.data import DataLoader,Dataset\n",
    "import matplotlib.pyplot as plt\n",
    "from matplotlib import cm\n",
    "import numpy as np\n",
    "import pandas as pd\n",
    "\n",
    "%matplotlib inline"
   ]
  },
  {
   "cell_type": "code",
   "execution_count": 2,
   "metadata": {},
   "outputs": [],
   "source": [
    "class EmbeddingsDataset(Dataset):\n",
    "    \n",
    "    def __init__(self, inputFilePath:str, outputFilePath:str=None):\n",
    "        \n",
    "        if(inputFilePath!=None and outputFilePath!=None):\n",
    "            self.outFileExists = True\n",
    "        elif(inputFilePath!=None and outputFilePath==None):\n",
    "            self.outFileExists = False\n",
    "            \n",
    "        self.labels,self.inputData,self.outputData = self.loadData(inputFilePath, outputFilePath)\n",
    "\n",
    "    def __getitem__(self, index):\n",
    "        if self.outFileExists:\n",
    "            data = [torch.FloatTensor(self.inputData[index]),torch.FloatTensor(self.outputData[index])]\n",
    "        else:\n",
    "            data = [torch.FloatTensor(self.inputData[index])]\n",
    "        label = self.labels[index]\n",
    "        return data, label\n",
    "\n",
    "    def __len__(self):\n",
    "        return len(self.labels)\n",
    "    \n",
    "    def loadData (self, inputFilePath:str, outputFilePath:str):\n",
    "        \n",
    "        labels = []\n",
    "        inputData = []\n",
    "        outputData = []\n",
    "        \n",
    "        inFile = open(inputFilePath,'r')\n",
    "        inFileLines = inFile.readlines()\n",
    "        if self.outFileExists:\n",
    "            outFile = open(outputFilePath,'r')\n",
    "            outFileLines = outFile.readlines()\n",
    "        else:\n",
    "            outFileLines=['' for i in range(len(inFileLines))]  #wont be used: dummy list\n",
    "            \n",
    "        for line_in,line_out in zip(inFileLines,outFileLines):\n",
    "            parts_in = line_in.strip().split(' ')\n",
    "            word_in,vec_in = parts_in[0].strip(),parts_in[1:]\n",
    "            vec_in = [float(i) for i in vec_in]\n",
    "            inputData.append(vec_in)\n",
    "            labels.append(word_in)\n",
    "            \n",
    "            if self.outFileExists:\n",
    "                parts_out = line_out.strip().split(' ')\n",
    "                word_out,vec_out = parts_out[0].strip(),parts_out[1:]\n",
    "                vec_out = [float(i) for i in vec_out]\n",
    "                outputData.append(vec_out)\n",
    "                if word_in!=word_out:\n",
    "                    raise Exception(f\"{word_in} , {word_out} are not equal!\")\n",
    "        \n",
    "        inFile.close()\n",
    "        if self.outFileExists:\n",
    "            outFile.close()\n",
    "            \n",
    "        return labels,inputData,outputData"
   ]
  },
  {
   "cell_type": "code",
   "execution_count": 3,
   "metadata": {},
   "outputs": [],
   "source": [
    "dataset = EmbeddingsDataset('input.englishdownsized.skipgram.vec','englishsourcedownsamplehundredmilion.vec')"
   ]
  },
  {
   "cell_type": "code",
   "execution_count": 4,
   "metadata": {},
   "outputs": [
    {
     "data": {
      "text/plain": [
       "208409"
      ]
     },
     "execution_count": 4,
     "metadata": {},
     "output_type": "execute_result"
    }
   ],
   "source": [
    "len(dataset)"
   ]
  },
  {
   "cell_type": "code",
   "execution_count": 5,
   "metadata": {},
   "outputs": [],
   "source": [
    "# Hyper Parameters\n",
    "torch.manual_seed(127)\n",
    "BATCH_SIZE = 512\n",
    "EPOCH = 10\n",
    "LR = 0.0001"
   ]
  },
  {
   "cell_type": "code",
   "execution_count": 6,
   "metadata": {},
   "outputs": [],
   "source": [
    "dev_size = 100\n",
    "train_size = len(dataset) - dev_size\n",
    "train_dataset, dev_dataset = torch.utils.data.random_split(dataset, [train_size, dev_size])\n",
    "emb_dim = len(train_dataset.dataset.inputData[0])"
   ]
  },
  {
   "cell_type": "code",
   "execution_count": 7,
   "metadata": {},
   "outputs": [],
   "source": [
    "# data_loader = DataLoader(dataset=dataset, batch_size=BATCH_SIZE, shuffle=True)\n",
    "train_loader = DataLoader(dataset=train_dataset, batch_size=BATCH_SIZE, shuffle=True)\n",
    "dev_loader = DataLoader(dataset=dev_dataset, batch_size=dev_size, shuffle=True)"
   ]
  },
  {
   "cell_type": "code",
   "execution_count": 8,
   "metadata": {},
   "outputs": [],
   "source": [
    "class AutoEncoder(nn.Module):\n",
    "    \n",
    "    def __init__(self,emb_dim:int):\n",
    "        super(AutoEncoder, self).__init__()\n",
    "\n",
    "        self.encoder = nn.Sequential(\n",
    "            nn.Linear(emb_dim, 200),\n",
    "             nn.Tanh(),\n",
    "             nn.Linear(200, 100),\n",
    "             nn.Tanh(),\n",
    "             nn.Linear(100, 50),\n",
    "             nn.Tanh(),\n",
    "             nn.Linear(50, 25),\n",
    "        )\n",
    "        self.decoder = nn.Sequential(\n",
    "            nn.Linear(25, 50),\n",
    "            nn.Tanh(),\n",
    "            nn.Linear(50, 100),\n",
    "            nn.Tanh(),\n",
    "            nn.Linear(100, 200),\n",
    "            nn.Tanh(),\n",
    "            nn.Linear(200, emb_dim)\n",
    "        )\n",
    "\n",
    "    def forward(self, x):\n",
    "        encoded = self.encoder(x)\n",
    "        decoded = self.decoder(encoded)\n",
    "        return decoded"
   ]
  },
  {
   "cell_type": "code",
   "execution_count": 9,
   "metadata": {},
   "outputs": [],
   "source": [
    "autoencoder = AutoEncoder(emb_dim)\n",
    "\n",
    "optimizer = torch.optim.Adam(autoencoder.parameters(), lr=LR)\n",
    "criterion = nn.MSELoss()"
   ]
  },
  {
   "cell_type": "code",
   "execution_count": 10,
   "metadata": {},
   "outputs": [
    {
     "name": "stdout",
     "output_type": "stream",
     "text": [
      "Epoch: 0 | train loss: 0.23465634882450104\n",
      "Epoch: 0 | train loss: 0.201359361410141\n",
      "Epoch: 0 | train loss: 0.1890958547592163\n",
      "Epoch: 0 | train loss: 0.18214116990566254\n",
      "Epoch: 0 | train loss: 0.1781575083732605\n",
      "Epoch: 1 | train loss: 0.17715349793434143\n",
      "Epoch: 1 | train loss: 0.1743209809064865\n",
      "Epoch: 1 | train loss: 0.170359805226326\n",
      "Epoch: 1 | train loss: 0.16927900910377502\n",
      "Epoch: 1 | train loss: 0.16834630072116852\n",
      "Epoch: 2 | train loss: 0.16916494071483612\n",
      "Epoch: 2 | train loss: 0.16749927401542664\n",
      "Epoch: 2 | train loss: 0.16606833040714264\n",
      "Epoch: 2 | train loss: 0.16540895402431488\n",
      "Epoch: 2 | train loss: 0.16378334164619446\n",
      "Epoch: 3 | train loss: 0.16314251720905304\n",
      "Epoch: 3 | train loss: 0.1624387800693512\n",
      "Epoch: 3 | train loss: 0.16227632761001587\n",
      "Epoch: 3 | train loss: 0.1624692976474762\n",
      "Epoch: 3 | train loss: 0.15997184813022614\n",
      "Epoch: 4 | train loss: 0.16295745968818665\n",
      "Epoch: 4 | train loss: 0.1631997674703598\n",
      "Epoch: 4 | train loss: 0.15854951739311218\n",
      "Epoch: 4 | train loss: 0.16005103290081024\n",
      "Epoch: 4 | train loss: 0.15994802117347717\n",
      "Epoch: 5 | train loss: 0.15973876416683197\n",
      "Epoch: 5 | train loss: 0.15693049132823944\n",
      "Epoch: 5 | train loss: 0.1583845317363739\n",
      "Epoch: 5 | train loss: 0.15701162815093994\n",
      "Epoch: 5 | train loss: 0.15854859352111816\n",
      "Epoch: 6 | train loss: 0.15947306156158447\n",
      "Epoch: 6 | train loss: 0.16014279425144196\n",
      "Epoch: 6 | train loss: 0.15656161308288574\n",
      "Epoch: 6 | train loss: 0.15898603200912476\n",
      "Epoch: 6 | train loss: 0.15674693882465363\n",
      "Epoch: 7 | train loss: 0.15590603649616241\n",
      "Epoch: 7 | train loss: 0.1590927541255951\n",
      "Epoch: 7 | train loss: 0.15551219880580902\n",
      "Epoch: 7 | train loss: 0.15713390707969666\n",
      "Epoch: 7 | train loss: 0.15646661818027496\n",
      "Epoch: 8 | train loss: 0.1570376604795456\n",
      "Epoch: 8 | train loss: 0.1590094268321991\n",
      "Epoch: 8 | train loss: 0.15427713096141815\n",
      "Epoch: 8 | train loss: 0.1560969352722168\n",
      "Epoch: 8 | train loss: 0.15870660543441772\n",
      "Epoch: 9 | train loss: 0.15769942104816437\n",
      "Epoch: 9 | train loss: 0.15866591036319733\n",
      "Epoch: 9 | train loss: 0.1560567170381546\n",
      "Epoch: 9 | train loss: 0.15751898288726807\n",
      "Epoch: 9 | train loss: 0.15827703475952148\n"
     ]
    }
   ],
   "source": [
    "train_losses = []\n",
    "dev_losses = []\n",
    "dev_data, dev_lable = next(iter(dev_loader))\n",
    "\n",
    "for epoch in range(EPOCH):\n",
    "    \n",
    "    for step, (data, label) in enumerate(train_loader):\n",
    "       \n",
    "        x = data[0]  #shape (batch, 300)\n",
    "        y = data[1]  #shape (batch, 300)\n",
    "        \n",
    "        decoded = autoencoder(x)\n",
    "\n",
    "        loss = torch.sqrt(criterion(decoded, y))        # mean square error\n",
    "#         loss = torch.sqrt(loss_func(decoded, y))        # mean square error\n",
    "        optimizer.zero_grad()               # clear gradients for this training step\n",
    "        loss.backward()                     # backpropagation, compute gradients\n",
    "        optimizer.step()                    # apply gradients\n",
    "        \n",
    "        if step % 100 == 0:\n",
    "            train_losses.append(loss.data.numpy())\n",
    "            print(f'Epoch: {epoch} | train loss: {loss.data.numpy()}')\n",
    "            \n",
    "            with torch.no_grad():\n",
    "                dev_x = dev_data[0]\n",
    "                dev_y = dev_data[1]\n",
    "                dev_predict = autoencoder(dev_x)\n",
    "                dev_loss = torch.sqrt(criterion(dev_predict, dev_y))\n",
    "                dev_losses.append(dev_loss)"
   ]
  },
  {
   "cell_type": "code",
   "execution_count": 11,
   "metadata": {},
   "outputs": [
    {
     "data": {
      "image/png": "[encoded data removed]",
      "text/plain": [
       "<Figure size 432x288 with 1 Axes>"
      ]
     },
     "metadata": {
      "needs_background": "light"
     },
     "output_type": "display_data"
    }
   ],
   "source": [
    "plt.plot(range(0,len(train_losses)),train_losses,'r');\n",
    "plt.plot(range(0,len(dev_losses)),dev_losses,'b');\n",
    "# plt.xticks(range(0,len(train_losses),2));\n",
    "plt.ylabel('RMSE Loss');\n",
    "plt.xlabel('iteration');"
   ]
  },
  {
   "cell_type": "markdown",
   "metadata": {},
   "source": [
    "### Evaluation on Dev Set"
   ]
  },
  {
   "cell_type": "code",
   "execution_count": 12,
   "metadata": {},
   "outputs": [
    {
     "name": "stdout",
     "output_type": "stream",
     "text": [
      "Dev Loss is 0.15763379633426666\n"
     ]
    }
   ],
   "source": [
    "with torch.no_grad():\n",
    "    \n",
    "    dev_data, dev_lable = next(iter(dev_loader))\n",
    "    dev_x = dev_data[0]\n",
    "    dev_y = dev_data[1]\n",
    "    dev_predict = autoencoder(dev_x)\n",
    "    dev_loss = torch.sqrt(criterion(dev_predict, dev_y))\n",
    "    print(f\"Dev Loss is {dev_loss}\")"
   ]
  },
  {
   "cell_type": "markdown",
   "metadata": {},
   "source": [
    "### Evaluation on test Set"
   ]
  },
  {
   "cell_type": "code",
   "execution_count": 13,
   "metadata": {},
   "outputs": [],
   "source": [
    "test_dataset = EmbeddingsDataset(inputFilePath='stan.rarewords.embeddings.vec')"
   ]
  },
  {
   "cell_type": "code",
   "execution_count": 14,
   "metadata": {},
   "outputs": [],
   "source": [
    "test_size = len(test_dataset)\n",
    "test_loader = DataLoader(dataset=test_dataset, batch_size=test_size, shuffle=False)"
   ]
  },
  {
   "cell_type": "code",
   "execution_count": 15,
   "metadata": {},
   "outputs": [],
   "source": [
    "with torch.no_grad():\n",
    "    \n",
    "    with open('output_rarewords_emb.vec','w') as file:\n",
    "        \n",
    "        test_data, test_lable = next(iter(test_loader))\n",
    "        test_x = test_data[0]\n",
    "        test_predict = autoencoder(test_x)\n",
    "        test_predict = test_predict.tolist()\n",
    "        for vec,label in zip(test_predict,test_lable):\n",
    "            vec = [f\"{v:.6f}\" for v in vec]\n",
    "            file.write(label+' '+' '.join(vec)+'\\n')"
   ]
  },
  {
   "cell_type": "code",
   "execution_count": null,
   "metadata": {},
   "outputs": [],
   "source": []
  }
 ],
 "metadata": {
  "kernelspec": {
   "display_name": "python3.7.5",
   "language": "python",
   "name": "python3.7.5"
  },
  "language_info": {
   "codemirror_mode": {
    "name": "ipython",
    "version": 3
   },
   "file_extension": ".py",
   "mimetype": "text/x-python",
   "name": "python",
   "nbconvert_exporter": "python",
   "pygments_lexer": "ipython3",
   "version": "3.7.5"
  }
 },
 "nbformat": 4,
 "nbformat_minor": 2
}
